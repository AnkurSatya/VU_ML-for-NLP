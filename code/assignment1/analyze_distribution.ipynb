{
 "cells": [
  {
   "cell_type": "code",
   "execution_count": 128,
   "id": "17ee58fc",
   "metadata": {},
   "outputs": [],
   "source": [
    "import io\n",
    "from collections import defaultdict, Counter\n",
    "import matplotlib.pyplot as plt\n",
    "import nltk\n",
    "from nltk.corpus.reader.conll import ConllCorpusReader, LazyConcatenation, LazyMap"
   ]
  },
  {
   "cell_type": "code",
   "execution_count": 129,
   "id": "1eb287cf",
   "metadata": {},
   "outputs": [],
   "source": [
    "# nltk.download('words')\n",
    "# nltk.download('maxent_ne_chunker')"
   ]
  },
  {
   "cell_type": "code",
   "execution_count": 130,
   "id": "adeb5300",
   "metadata": {},
   "outputs": [],
   "source": [
    "###Taken from [https://stackoverflow.com/questions/46872083/ne-tags-in-nltk-conllcorpusreader] [14/11/2022]\n",
    "class betterConllReader(ConllCorpusReader):\n",
    "\n",
    "    def iob_words(self, fileids=None, tagset=None, column=\"ne\"):\n",
    "        \"\"\"\n",
    "        :return: a list of word/tag/IOB tuples\n",
    "        :rtype: list(tuple)\n",
    "        :param fileids: the list of fileids that make up this corpus\n",
    "        :type fileids: None or str or list\n",
    "        \"\"\"\n",
    "        self._require(self.WORDS, self.POS, self.CHUNK, self.NE)\n",
    "        def get_iob_words(grid):\n",
    "            return self._get_iob_words(grid, tagset, column)\n",
    "        return LazyConcatenation(LazyMap(get_iob_words, self._grids(fileids)))\n",
    "\n",
    "    def _get_iob_words(self, grid, tagset=None, column=\"ne\"):\n",
    "        pos_tags = self._get_column(grid, self._colmap['pos'])\n",
    "        if tagset and tagset != self._tagset:\n",
    "            pos_tags = [map_tag(self._tagset, tagset, t) for t in pos_tags]\n",
    "        return list(zip(self._get_column(grid, self._colmap['words']), pos_tags,\n",
    "                   self._get_column(grid, self._colmap[column])))\n",
    "\n",
    "###"
   ]
  },
  {
   "cell_type": "code",
   "execution_count": 154,
   "id": "6a053a77",
   "metadata": {},
   "outputs": [],
   "source": [
    "def read_data(root_filename, datafiles, column_types):\n",
    "    # data_stream = pyconll.load_from_file(filename)\n",
    "    # data = parse(data_stream)\n",
    "\n",
    "    data = betterConllReader(root_filename, datafiles, columntypes=column_types)\n",
    "    return data\n",
    "\n",
    "\n",
    "def extract_annotations(inputfile, annotationcolumn, delimiter='\\t'):\n",
    "    '''\n",
    "    This function extracts annotations represented in the conll format from a file\n",
    "    \n",
    "    :param inputfile: the path to the conll file\n",
    "    :param annotationcolumn: the name of the column in which the target annotation is provided\n",
    "    :param delimiter: optional parameter to overwrite the default delimiter (tab)\n",
    "    :type inputfile: string\n",
    "    :type annotationcolumn: string\n",
    "    :type delimiter: string\n",
    "    :returns: the annotations as a list\n",
    "    '''\n",
    "    #https://pandas.pydata.org/pandas-docs/stable/reference/api/pandas.read_csv.html\n",
    "    conll_input = pd.read_csv(inputfile, sep=delimiter, error_bad_lines=False)\n",
    "    annotations = conll_input[annotationcolumn].tolist()\n",
    "    return annotations\n",
    "\n",
    "\n",
    "def get_class_labels_distribution(data, plot=False, train_data=True):\n",
    "    labels_counter = defaultdict(int)\n",
    "\n",
    "    for iob_word in data.iob_words(): \n",
    "        labels_counter[iob_word[-1]] += 1\n",
    "\n",
    "    del labels_counter[\"O\"]\n",
    "    \n",
    "    if plot:\n",
    "        plt.bar(list(labels_counter.keys()), list(labels_counter.values()))\n",
    "        plt.title(\"Class label distribution for {}\".format(\"training data\" if train_data else \"dev data\"))\n",
    "    \n",
    "    return labels_counter"
   ]
  },
  {
   "cell_type": "code",
   "execution_count": 157,
   "id": "9d4d03a6",
   "metadata": {},
   "outputs": [],
   "source": [
    "root_filename = \"../../data/\"\n",
    "datafiles = [\"conll2003.train.conll\", \"conll2003.dev.conll\"]\n",
    "column_types = [\"words\", \"pos\", \"chunk\", \"ne\"]"
   ]
  },
  {
   "cell_type": "code",
   "execution_count": 159,
   "id": "101af2b0",
   "metadata": {},
   "outputs": [
    {
     "data": {
      "image/png": "[encoded data removed]",
      "text/plain": [
       "<Figure size 640x480 with 1 Axes>"
      ]
     },
     "metadata": {},
     "output_type": "display_data"
    }
   ],
   "source": [
    "data = read_data(root_filename, [datafiles[1]], column_types)\n",
    "labels_counter = get_class_labels_distribution(data, plot=True, train_data=False)"
   ]
  },
  {
   "cell_type": "code",
   "execution_count": 153,
   "id": "59448f1e",
   "metadata": {},
   "outputs": [
    {
     "data": {
      "text/plain": [
       "defaultdict(int,\n",
       "            {'B-ORG': 6321,\n",
       "             'B-MISC': 3438,\n",
       "             'B-PER': 6600,\n",
       "             'I-PER': 4528,\n",
       "             'B-LOC': 7140,\n",
       "             'I-ORG': 3704,\n",
       "             'I-MISC': 1155,\n",
       "             'I-LOC': 1157})"
      ]
     },
     "execution_count": 153,
     "metadata": {},
     "output_type": "execute_result"
    }
   ],
   "source": [
    "labels_counter"
   ]
  },
  {
   "cell_type": "code",
   "execution_count": null,
   "id": "b6acc429",
   "metadata": {},
   "outputs": [],
   "source": []
  }
 ],
 "metadata": {
  "kernelspec": {
   "display_name": "env_ml-for-nlp",
   "language": "python",
   "name": "env_ml-for-nlp"
  },
  "language_info": {
   "codemirror_mode": {
    "name": "ipython",
    "version": 3
   },
   "file_extension": ".py",
   "mimetype": "text/x-python",
   "name": "python",
   "nbconvert_exporter": "python",
   "pygments_lexer": "ipython3",
   "version": "3.10.6"
  }
 },
 "nbformat": 4,
 "nbformat_minor": 5
}
